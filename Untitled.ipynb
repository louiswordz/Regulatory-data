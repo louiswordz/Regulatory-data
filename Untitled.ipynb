{
 "cells": [
  {
   "cell_type": "code",
   "execution_count": 1,
   "id": "efa2453b-446c-4869-92d6-098fd0365ebc",
   "metadata": {},
   "outputs": [],
   "source": [
    "import pandas as pd\n",
    "import numpy as np\n",
    "import matplotlib.pyplot as plt\n",
    "import seaborn as sb\n",
    "import warnings\n",
    "warnings.filterwarnings(\"ignore\")"
   ]
  },
  {
   "cell_type": "code",
   "execution_count": 2,
   "id": "ed6537ca-5eb9-48cc-aeab-025f2d92c28a",
   "metadata": {},
   "outputs": [],
   "source": [
    "# Write a class to load data\n",
    "class Data:\n",
    "    def __init__(self, data):\n",
    "        self.data = data\n",
    "    def readData(self):\n",
    "        df = pd.read_csv(self.data)\n",
    "        return df"
   ]
  },
  {
   "cell_type": "code",
   "execution_count": 7,
   "id": "030e5e38-e7c2-439f-9ed2-9f02957ba7ae",
   "metadata": {},
   "outputs": [],
   "source": [
    "#Load data\n",
    "D = Data(\"data/historical_energy_data.csv\")\n",
    "df = D.readData()"
   ]
  },
  {
   "cell_type": "code",
   "execution_count": 8,
   "id": "510ffb20-0611-478e-895c-c86fac4f8ffd",
   "metadata": {},
   "outputs": [
    {
     "data": {
      "text/html": [
       "<div>\n",
       "<style scoped>\n",
       "    .dataframe tbody tr th:only-of-type {\n",
       "        vertical-align: middle;\n",
       "    }\n",
       "\n",
       "    .dataframe tbody tr th {\n",
       "        vertical-align: top;\n",
       "    }\n",
       "\n",
       "    .dataframe thead th {\n",
       "        text-align: right;\n",
       "    }\n",
       "</style>\n",
       "<table border=\"1\" class=\"dataframe\">\n",
       "  <thead>\n",
       "    <tr style=\"text-align: right;\">\n",
       "      <th></th>\n",
       "      <th>Date/Time</th>\n",
       "      <th>Location/Region</th>\n",
       "      <th>Energy Source</th>\n",
       "      <th>Energy Demand</th>\n",
       "      <th>Energy Consumption (kWh)</th>\n",
       "      <th>Energy Price</th>\n",
       "      <th>Operational Costs</th>\n",
       "      <th>Energy Production (kWh)</th>\n",
       "    </tr>\n",
       "  </thead>\n",
       "  <tbody>\n",
       "    <tr>\n",
       "      <th>0</th>\n",
       "      <td>01/01/2012</td>\n",
       "      <td>Region A</td>\n",
       "      <td>Fossil Fuels</td>\n",
       "      <td>24016</td>\n",
       "      <td>21848</td>\n",
       "      <td>0.131630</td>\n",
       "      <td>1564.239198</td>\n",
       "      <td>31604</td>\n",
       "    </tr>\n",
       "    <tr>\n",
       "      <th>1</th>\n",
       "      <td>02/01/2012</td>\n",
       "      <td>Region C</td>\n",
       "      <td>Fossil Fuels</td>\n",
       "      <td>56200</td>\n",
       "      <td>34796</td>\n",
       "      <td>0.160969</td>\n",
       "      <td>3837.295411</td>\n",
       "      <td>11734</td>\n",
       "    </tr>\n",
       "    <tr>\n",
       "      <th>2</th>\n",
       "      <td>03/01/2012</td>\n",
       "      <td>Region A</td>\n",
       "      <td>Renewables</td>\n",
       "      <td>81268</td>\n",
       "      <td>36244</td>\n",
       "      <td>0.155890</td>\n",
       "      <td>4418.260676</td>\n",
       "      <td>31523</td>\n",
       "    </tr>\n",
       "    <tr>\n",
       "      <th>3</th>\n",
       "      <td>04/01/2012</td>\n",
       "      <td>Region C</td>\n",
       "      <td>Fossil Fuels</td>\n",
       "      <td>61287</td>\n",
       "      <td>19955</td>\n",
       "      <td>0.130128</td>\n",
       "      <td>3743.417970</td>\n",
       "      <td>21205</td>\n",
       "    </tr>\n",
       "    <tr>\n",
       "      <th>4</th>\n",
       "      <td>05/01/2012</td>\n",
       "      <td>Region B</td>\n",
       "      <td>Fossil Fuels</td>\n",
       "      <td>93447</td>\n",
       "      <td>13788</td>\n",
       "      <td>0.151835</td>\n",
       "      <td>1071.513936</td>\n",
       "      <td>19548</td>\n",
       "    </tr>\n",
       "  </tbody>\n",
       "</table>\n",
       "</div>"
      ],
      "text/plain": [
       "    Date/Time Location/Region Energy Source  Energy Demand  \\\n",
       "0  01/01/2012        Region A  Fossil Fuels          24016   \n",
       "1  02/01/2012        Region C  Fossil Fuels          56200   \n",
       "2  03/01/2012        Region A    Renewables          81268   \n",
       "3  04/01/2012        Region C  Fossil Fuels          61287   \n",
       "4  05/01/2012        Region B  Fossil Fuels          93447   \n",
       "\n",
       "   Energy Consumption (kWh)  Energy Price  Operational Costs  \\\n",
       "0                     21848      0.131630        1564.239198   \n",
       "1                     34796      0.160969        3837.295411   \n",
       "2                     36244      0.155890        4418.260676   \n",
       "3                     19955      0.130128        3743.417970   \n",
       "4                     13788      0.151835        1071.513936   \n",
       "\n",
       "   Energy Production (kWh)  \n",
       "0                    31604  \n",
       "1                    11734  \n",
       "2                    31523  \n",
       "3                    21205  \n",
       "4                    19548  "
      ]
     },
     "execution_count": 8,
     "metadata": {},
     "output_type": "execute_result"
    }
   ],
   "source": [
    "#view First five columns\n",
    "df.head()"
   ]
  },
  {
   "cell_type": "code",
   "execution_count": 9,
   "id": "d53e1574-b586-4610-8a5f-6ac0665ec0b7",
   "metadata": {},
   "outputs": [
    {
     "name": "stdout",
     "output_type": "stream",
     "text": [
      "<class 'pandas.core.frame.DataFrame'>\n",
      "RangeIndex: 1000 entries, 0 to 999\n",
      "Data columns (total 8 columns):\n",
      " #   Column                    Non-Null Count  Dtype  \n",
      "---  ------                    --------------  -----  \n",
      " 0   Date/Time                 1000 non-null   object \n",
      " 1   Location/Region           1000 non-null   object \n",
      " 2   Energy Source             1000 non-null   object \n",
      " 3   Energy Demand             1000 non-null   int64  \n",
      " 4   Energy Consumption (kWh)  1000 non-null   int64  \n",
      " 5   Energy Price              1000 non-null   float64\n",
      " 6   Operational Costs         1000 non-null   float64\n",
      " 7   Energy Production (kWh)   1000 non-null   int64  \n",
      "dtypes: float64(2), int64(3), object(3)\n",
      "memory usage: 62.6+ KB\n"
     ]
    }
   ],
   "source": [
    "#Get info\n",
    "df.info()"
   ]
  },
  {
   "cell_type": "code",
   "execution_count": null,
   "id": "e4835031-ec41-4f32-8824-e157da633f5d",
   "metadata": {},
   "outputs": [],
   "source": []
  }
 ],
 "metadata": {
  "kernelspec": {
   "display_name": "Python 3 (ipykernel)",
   "language": "python",
   "name": "python3"
  },
  "language_info": {
   "codemirror_mode": {
    "name": "ipython",
    "version": 3
   },
   "file_extension": ".py",
   "mimetype": "text/x-python",
   "name": "python",
   "nbconvert_exporter": "python",
   "pygments_lexer": "ipython3",
   "version": "3.11.7"
  }
 },
 "nbformat": 4,
 "nbformat_minor": 5
}
