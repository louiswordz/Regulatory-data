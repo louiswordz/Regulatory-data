{
 "cells": [
  {
   "cell_type": "markdown",
   "id": "b5503eb0-2972-4f69-81f5-a96bbfe593d0",
   "metadata": {},
   "source": [
    "<h1>Historical data</h1>\n"
   ]
  },
  {
   "cell_type": "code",
   "execution_count": 1,
   "id": "efa2453b-446c-4869-92d6-098fd0365ebc",
   "metadata": {},
   "outputs": [],
   "source": [
    "import pandas as pd\n",
    "import numpy as np\n",
    "import matplotlib.pyplot as plt\n",
    "import seaborn as sb\n",
    "import warnings\n",
    "warnings.filterwarnings(\"ignore\")"
   ]
  },
  {
   "cell_type": "code",
   "execution_count": 2,
   "id": "ed6537ca-5eb9-48cc-aeab-025f2d92c28a",
   "metadata": {},
   "outputs": [],
   "source": [
    "# Write a class to load data\n",
    "class Data:\n",
    "    def __init__(self, data):\n",
    "        self.data = data\n",
    "    def readData(self):\n",
    "        df = pd.read_csv(self.data)\n",
    "        return df"
   ]
  },
  {
   "cell_type": "code",
   "execution_count": 3,
   "id": "030e5e38-e7c2-439f-9ed2-9f02957ba7ae",
   "metadata": {},
   "outputs": [],
   "source": [
    "#Load data\n",
    "D = Data(\"data/historical_energy_data.csv\")\n",
    "df = D.readData()"
   ]
  },
  {
   "cell_type": "code",
   "execution_count": 4,
   "id": "510ffb20-0611-478e-895c-c86fac4f8ffd",
   "metadata": {},
   "outputs": [
    {
     "data": {
      "text/html": [
       "<div>\n",
       "<style scoped>\n",
       "    .dataframe tbody tr th:only-of-type {\n",
       "        vertical-align: middle;\n",
       "    }\n",
       "\n",
       "    .dataframe tbody tr th {\n",
       "        vertical-align: top;\n",
       "    }\n",
       "\n",
       "    .dataframe thead th {\n",
       "        text-align: right;\n",
       "    }\n",
       "</style>\n",
       "<table border=\"1\" class=\"dataframe\">\n",
       "  <thead>\n",
       "    <tr style=\"text-align: right;\">\n",
       "      <th></th>\n",
       "      <th>Date/Time</th>\n",
       "      <th>Location/Region</th>\n",
       "      <th>Energy Source</th>\n",
       "      <th>Energy Demand</th>\n",
       "      <th>Energy Consumption (kWh)</th>\n",
       "      <th>Energy Price</th>\n",
       "      <th>Operational Costs</th>\n",
       "      <th>Energy Production (kWh)</th>\n",
       "    </tr>\n",
       "  </thead>\n",
       "  <tbody>\n",
       "    <tr>\n",
       "      <th>0</th>\n",
       "      <td>01/01/2012</td>\n",
       "      <td>Region A</td>\n",
       "      <td>Fossil Fuels</td>\n",
       "      <td>24016</td>\n",
       "      <td>21848</td>\n",
       "      <td>0.131630</td>\n",
       "      <td>1564.239198</td>\n",
       "      <td>31604</td>\n",
       "    </tr>\n",
       "    <tr>\n",
       "      <th>1</th>\n",
       "      <td>02/01/2012</td>\n",
       "      <td>Region C</td>\n",
       "      <td>Fossil Fuels</td>\n",
       "      <td>56200</td>\n",
       "      <td>34796</td>\n",
       "      <td>0.160969</td>\n",
       "      <td>3837.295411</td>\n",
       "      <td>11734</td>\n",
       "    </tr>\n",
       "    <tr>\n",
       "      <th>2</th>\n",
       "      <td>03/01/2012</td>\n",
       "      <td>Region A</td>\n",
       "      <td>Renewables</td>\n",
       "      <td>81268</td>\n",
       "      <td>36244</td>\n",
       "      <td>0.155890</td>\n",
       "      <td>4418.260676</td>\n",
       "      <td>31523</td>\n",
       "    </tr>\n",
       "    <tr>\n",
       "      <th>3</th>\n",
       "      <td>04/01/2012</td>\n",
       "      <td>Region C</td>\n",
       "      <td>Fossil Fuels</td>\n",
       "      <td>61287</td>\n",
       "      <td>19955</td>\n",
       "      <td>0.130128</td>\n",
       "      <td>3743.417970</td>\n",
       "      <td>21205</td>\n",
       "    </tr>\n",
       "    <tr>\n",
       "      <th>4</th>\n",
       "      <td>05/01/2012</td>\n",
       "      <td>Region B</td>\n",
       "      <td>Fossil Fuels</td>\n",
       "      <td>93447</td>\n",
       "      <td>13788</td>\n",
       "      <td>0.151835</td>\n",
       "      <td>1071.513936</td>\n",
       "      <td>19548</td>\n",
       "    </tr>\n",
       "  </tbody>\n",
       "</table>\n",
       "</div>"
      ],
      "text/plain": [
       "    Date/Time Location/Region Energy Source  Energy Demand  \\\n",
       "0  01/01/2012        Region A  Fossil Fuels          24016   \n",
       "1  02/01/2012        Region C  Fossil Fuels          56200   \n",
       "2  03/01/2012        Region A    Renewables          81268   \n",
       "3  04/01/2012        Region C  Fossil Fuels          61287   \n",
       "4  05/01/2012        Region B  Fossil Fuels          93447   \n",
       "\n",
       "   Energy Consumption (kWh)  Energy Price  Operational Costs  \\\n",
       "0                     21848      0.131630        1564.239198   \n",
       "1                     34796      0.160969        3837.295411   \n",
       "2                     36244      0.155890        4418.260676   \n",
       "3                     19955      0.130128        3743.417970   \n",
       "4                     13788      0.151835        1071.513936   \n",
       "\n",
       "   Energy Production (kWh)  \n",
       "0                    31604  \n",
       "1                    11734  \n",
       "2                    31523  \n",
       "3                    21205  \n",
       "4                    19548  "
      ]
     },
     "execution_count": 4,
     "metadata": {},
     "output_type": "execute_result"
    }
   ],
   "source": [
    "#view First five columns\n",
    "df.head()"
   ]
  },
  {
   "cell_type": "code",
   "execution_count": 5,
   "id": "d53e1574-b586-4610-8a5f-6ac0665ec0b7",
   "metadata": {},
   "outputs": [
    {
     "name": "stdout",
     "output_type": "stream",
     "text": [
      "<class 'pandas.core.frame.DataFrame'>\n",
      "RangeIndex: 1000 entries, 0 to 999\n",
      "Data columns (total 8 columns):\n",
      " #   Column                    Non-Null Count  Dtype  \n",
      "---  ------                    --------------  -----  \n",
      " 0   Date/Time                 1000 non-null   object \n",
      " 1   Location/Region           1000 non-null   object \n",
      " 2   Energy Source             1000 non-null   object \n",
      " 3   Energy Demand             1000 non-null   int64  \n",
      " 4   Energy Consumption (kWh)  1000 non-null   int64  \n",
      " 5   Energy Price              1000 non-null   float64\n",
      " 6   Operational Costs         1000 non-null   float64\n",
      " 7   Energy Production (kWh)   1000 non-null   int64  \n",
      "dtypes: float64(2), int64(3), object(3)\n",
      "memory usage: 62.6+ KB\n"
     ]
    }
   ],
   "source": [
    "#Get info\n",
    "df.info()"
   ]
  },
  {
   "cell_type": "code",
   "execution_count": 6,
   "id": "e4835031-ec41-4f32-8824-e157da633f5d",
   "metadata": {},
   "outputs": [
    {
     "data": {
      "text/plain": [
       "0    True\n",
       "1    True\n",
       "2    True\n",
       "3    True\n",
       "4    True\n",
       "Name: Energy Source, dtype: bool"
      ]
     },
     "execution_count": 6,
     "metadata": {},
     "output_type": "execute_result"
    }
   ],
   "source": [
    "# reconfirming my column\n",
    "df['Energy Source'].isin([\"Fossil Fuels\", \"Renewables\"])[:5]"
   ]
  },
  {
   "cell_type": "code",
   "execution_count": 8,
   "id": "e0a02efd-98dd-4701-bada-c855e944e322",
   "metadata": {},
   "outputs": [
    {
     "data": {
      "text/html": [
       "<div>\n",
       "<style scoped>\n",
       "    .dataframe tbody tr th:only-of-type {\n",
       "        vertical-align: middle;\n",
       "    }\n",
       "\n",
       "    .dataframe tbody tr th {\n",
       "        vertical-align: top;\n",
       "    }\n",
       "\n",
       "    .dataframe thead th {\n",
       "        text-align: right;\n",
       "    }\n",
       "</style>\n",
       "<table border=\"1\" class=\"dataframe\">\n",
       "  <thead>\n",
       "    <tr style=\"text-align: right;\">\n",
       "      <th></th>\n",
       "      <th>count</th>\n",
       "      <th>mean</th>\n",
       "      <th>std</th>\n",
       "      <th>min</th>\n",
       "      <th>25%</th>\n",
       "      <th>50%</th>\n",
       "      <th>75%</th>\n",
       "      <th>max</th>\n",
       "    </tr>\n",
       "  </thead>\n",
       "  <tbody>\n",
       "    <tr>\n",
       "      <th>Energy Demand</th>\n",
       "      <td>1000.0</td>\n",
       "      <td>49336.335000</td>\n",
       "      <td>28215.243714</td>\n",
       "      <td>1015.000000</td>\n",
       "      <td>25812.750000</td>\n",
       "      <td>49398.500000</td>\n",
       "      <td>73877.500000</td>\n",
       "      <td>99941.000000</td>\n",
       "    </tr>\n",
       "    <tr>\n",
       "      <th>Energy Consumption (kWh)</th>\n",
       "      <td>1000.0</td>\n",
       "      <td>24249.533000</td>\n",
       "      <td>14092.904681</td>\n",
       "      <td>505.000000</td>\n",
       "      <td>12017.750000</td>\n",
       "      <td>23178.000000</td>\n",
       "      <td>36563.000000</td>\n",
       "      <td>49985.000000</td>\n",
       "    </tr>\n",
       "    <tr>\n",
       "      <th>Energy Price</th>\n",
       "      <td>1000.0</td>\n",
       "      <td>0.126752</td>\n",
       "      <td>0.042857</td>\n",
       "      <td>0.050368</td>\n",
       "      <td>0.091048</td>\n",
       "      <td>0.126799</td>\n",
       "      <td>0.163701</td>\n",
       "      <td>0.199951</td>\n",
       "    </tr>\n",
       "    <tr>\n",
       "      <th>Operational Costs</th>\n",
       "      <td>1000.0</td>\n",
       "      <td>3002.452425</td>\n",
       "      <td>1189.898418</td>\n",
       "      <td>1000.630978</td>\n",
       "      <td>1957.452731</td>\n",
       "      <td>2954.748776</td>\n",
       "      <td>4095.759662</td>\n",
       "      <td>4995.000138</td>\n",
       "    </tr>\n",
       "    <tr>\n",
       "      <th>Energy Production (kWh)</th>\n",
       "      <td>1000.0</td>\n",
       "      <td>25502.488000</td>\n",
       "      <td>14057.976149</td>\n",
       "      <td>850.000000</td>\n",
       "      <td>13235.750000</td>\n",
       "      <td>24946.000000</td>\n",
       "      <td>37653.250000</td>\n",
       "      <td>49936.000000</td>\n",
       "    </tr>\n",
       "  </tbody>\n",
       "</table>\n",
       "</div>"
      ],
      "text/plain": [
       "                           count          mean           std          min  \\\n",
       "Energy Demand             1000.0  49336.335000  28215.243714  1015.000000   \n",
       "Energy Consumption (kWh)  1000.0  24249.533000  14092.904681   505.000000   \n",
       "Energy Price              1000.0      0.126752      0.042857     0.050368   \n",
       "Operational Costs         1000.0   3002.452425   1189.898418  1000.630978   \n",
       "Energy Production (kWh)   1000.0  25502.488000  14057.976149   850.000000   \n",
       "\n",
       "                                   25%           50%           75%  \\\n",
       "Energy Demand             25812.750000  49398.500000  73877.500000   \n",
       "Energy Consumption (kWh)  12017.750000  23178.000000  36563.000000   \n",
       "Energy Price                  0.091048      0.126799      0.163701   \n",
       "Operational Costs          1957.452731   2954.748776   4095.759662   \n",
       "Energy Production (kWh)   13235.750000  24946.000000  37653.250000   \n",
       "\n",
       "                                   max  \n",
       "Energy Demand             99941.000000  \n",
       "Energy Consumption (kWh)  49985.000000  \n",
       "Energy Price                  0.199951  \n",
       "Operational Costs          4995.000138  \n",
       "Energy Production (kWh)   49936.000000  "
      ]
     },
     "execution_count": 8,
     "metadata": {},
     "output_type": "execute_result"
    }
   ],
   "source": [
    "#statistical overview\n",
    "df.describe().T"
   ]
  },
  {
   "cell_type": "markdown",
   "id": "7880de5d-7719-42fd-bfeb-a0bbfd61d207",
   "metadata": {},
   "source": [
    "<h2>Observation</h2>\n",
    "<ul style=\"list-style:none\">\n",
    "    <li><b>Energy Demand:  </b>The difference between the max and min value amounted to 94,941 showing strong increase</li>\n",
    "    <li><b>Energy Consumption (kWh):</b> The inter quartile range of the energy consumption happen to slightly progress the second quantile value rose more than 100%, then to 200% and 300% for the third and fourth quantile range respectively</li>\n",
    "    <li><b>Energy Price:</b>The mean price for energy has a large margin from the max value. Which might increase high\n",
    "    chance of more energy consumption</li>\n",
    "    <li><b>Operational Costs:</b> The cost of operation didn't increase that much.</li>\n",
    "    <li><b>Energy Production (kWh):</b> 49936 is the highest amount spent on energy production!</li>\n",
    "</ul>\n",
    "<p>The have been consistency in value rise in all numerical columns</p>"
   ]
  },
  {
   "cell_type": "code",
   "execution_count": 9,
   "id": "485dc7bc-5b74-4820-a28c-c13a7e21769e",
   "metadata": {},
   "outputs": [
    {
     "name": "stdout",
     "output_type": "stream",
     "text": [
      "The value for Date/Time is:\n",
      "Date/Time\n",
      "01/01/2012    1\n",
      "02/11/2013    1\n",
      "20/10/2013    1\n",
      "21/10/2013    1\n",
      "22/10/2013    1\n",
      "             ..\n",
      "04/12/2012    1\n",
      "05/12/2012    1\n",
      "06/12/2012    1\n",
      "07/12/2012    1\n",
      "26/09/2014    1\n",
      "Name: count, Length: 1000, dtype: int64\n",
      " \n",
      "The value for Location/Region is:\n",
      "Location/Region\n",
      "Region C    362\n",
      "Region A    325\n",
      "Region B    313\n",
      "Name: count, dtype: int64\n",
      " \n",
      "The value for Energy Source is:\n",
      "Energy Source\n",
      "Fossil Fuels    507\n",
      "Renewables      493\n",
      "Name: count, dtype: int64\n",
      " \n"
     ]
    }
   ],
   "source": [
    "# An overall analysis on object columns\n",
    "for col in df.describe(include=\"object\"):\n",
    "    print(f\"The value for {col} is:\")\n",
    "    print(df[col].value_counts())\n",
    "    print(\" \")"
   ]
  },
  {
   "cell_type": "code",
   "execution_count": 10,
   "id": "24fd47a1-07fb-4887-a18d-9a0c6adfb4d1",
   "metadata": {},
   "outputs": [
    {
     "data": {
      "text/html": [
       "<div>\n",
       "<style scoped>\n",
       "    .dataframe tbody tr th:only-of-type {\n",
       "        vertical-align: middle;\n",
       "    }\n",
       "\n",
       "    .dataframe tbody tr th {\n",
       "        vertical-align: top;\n",
       "    }\n",
       "\n",
       "    .dataframe thead th {\n",
       "        text-align: right;\n",
       "    }\n",
       "</style>\n",
       "<table border=\"1\" class=\"dataframe\">\n",
       "  <thead>\n",
       "    <tr style=\"text-align: right;\">\n",
       "      <th>col_0</th>\n",
       "      <th>Energy Source</th>\n",
       "    </tr>\n",
       "    <tr>\n",
       "      <th>Location/Region</th>\n",
       "      <th></th>\n",
       "    </tr>\n",
       "  </thead>\n",
       "  <tbody>\n",
       "    <tr>\n",
       "      <th>Region A</th>\n",
       "      <td>325</td>\n",
       "    </tr>\n",
       "    <tr>\n",
       "      <th>Region B</th>\n",
       "      <td>313</td>\n",
       "    </tr>\n",
       "    <tr>\n",
       "      <th>Region C</th>\n",
       "      <td>362</td>\n",
       "    </tr>\n",
       "  </tbody>\n",
       "</table>\n",
       "</div>"
      ],
      "text/plain": [
       "col_0             Energy Source\n",
       "Location/Region                \n",
       "Region A                    325\n",
       "Region B                    313\n",
       "Region C                    362"
      ]
     },
     "execution_count": 10,
     "metadata": {},
     "output_type": "execute_result"
    }
   ],
   "source": [
    "# A crosstab between Categorical columns\n",
    "pd.crosstab(df['Location/Region'],[' Energy Source'])"
   ]
  },
  {
   "cell_type": "code",
   "execution_count": 14,
   "id": "907af408-9660-445d-a9e8-3973f49341eb",
   "metadata": {},
   "outputs": [
    {
     "data": {
      "text/html": [
       "<div>\n",
       "<style scoped>\n",
       "    .dataframe tbody tr th:only-of-type {\n",
       "        vertical-align: middle;\n",
       "    }\n",
       "\n",
       "    .dataframe tbody tr th {\n",
       "        vertical-align: top;\n",
       "    }\n",
       "\n",
       "    .dataframe thead th {\n",
       "        text-align: right;\n",
       "    }\n",
       "</style>\n",
       "<table border=\"1\" class=\"dataframe\">\n",
       "  <thead>\n",
       "    <tr style=\"text-align: right;\">\n",
       "      <th></th>\n",
       "      <th>Energy Consumption (kWh)</th>\n",
       "      <th>Energy Demand</th>\n",
       "      <th>Operational Costs</th>\n",
       "      <th>Energy Production (kWh)</th>\n",
       "      <th>Energy Price</th>\n",
       "    </tr>\n",
       "    <tr>\n",
       "      <th>Energy Source</th>\n",
       "      <th></th>\n",
       "      <th></th>\n",
       "      <th></th>\n",
       "      <th></th>\n",
       "      <th></th>\n",
       "    </tr>\n",
       "  </thead>\n",
       "  <tbody>\n",
       "    <tr>\n",
       "      <th>Fossil Fuels</th>\n",
       "      <td>49723</td>\n",
       "      <td>99941</td>\n",
       "      <td>4994.793927</td>\n",
       "      <td>49804</td>\n",
       "      <td>0.199900</td>\n",
       "    </tr>\n",
       "    <tr>\n",
       "      <th>Renewables</th>\n",
       "      <td>49985</td>\n",
       "      <td>99633</td>\n",
       "      <td>4995.000138</td>\n",
       "      <td>49936</td>\n",
       "      <td>0.199951</td>\n",
       "    </tr>\n",
       "  </tbody>\n",
       "</table>\n",
       "</div>"
      ],
      "text/plain": [
       "               Energy Consumption (kWh)  Energy Demand  Operational Costs  \\\n",
       "Energy Source                                                               \n",
       "Fossil Fuels                      49723          99941        4994.793927   \n",
       "Renewables                        49985          99633        4995.000138   \n",
       "\n",
       "               Energy Production (kWh)  Energy Price  \n",
       "Energy Source                                         \n",
       "Fossil Fuels                     49804      0.199900  \n",
       "Renewables                       49936      0.199951  "
      ]
     },
     "execution_count": 14,
     "metadata": {},
     "output_type": "execute_result"
    }
   ],
   "source": [
    "#Evaluating the max for each numerical data based on energy \n",
    "df.groupby(\"Energy Source\")[[\"Energy Consumption (kWh)\",\"Energy Demand\",\"Operational Costs\",\"Energy Production (kWh)\",\"Energy Price\"]].max()"
   ]
  },
  {
   "cell_type": "code",
   "execution_count": 18,
   "id": "ade8f7a6-1a60-4f77-bc93-5bd47de171e8",
   "metadata": {},
   "outputs": [
    {
     "data": {
      "text/html": [
       "<div>\n",
       "<style scoped>\n",
       "    .dataframe tbody tr th:only-of-type {\n",
       "        vertical-align: middle;\n",
       "    }\n",
       "\n",
       "    .dataframe tbody tr th {\n",
       "        vertical-align: top;\n",
       "    }\n",
       "\n",
       "    .dataframe thead th {\n",
       "        text-align: right;\n",
       "    }\n",
       "</style>\n",
       "<table border=\"1\" class=\"dataframe\">\n",
       "  <thead>\n",
       "    <tr style=\"text-align: right;\">\n",
       "      <th></th>\n",
       "      <th>Energy Consumption (kWh)</th>\n",
       "      <th>Energy Demand</th>\n",
       "      <th>Energy Production (kWh)</th>\n",
       "    </tr>\n",
       "    <tr>\n",
       "      <th>Location/Region</th>\n",
       "      <th></th>\n",
       "      <th></th>\n",
       "      <th></th>\n",
       "    </tr>\n",
       "  </thead>\n",
       "  <tbody>\n",
       "    <tr>\n",
       "      <th>Region A</th>\n",
       "      <td>49607</td>\n",
       "      <td>99580</td>\n",
       "      <td>49876</td>\n",
       "    </tr>\n",
       "    <tr>\n",
       "      <th>Region B</th>\n",
       "      <td>49985</td>\n",
       "      <td>99759</td>\n",
       "      <td>49804</td>\n",
       "    </tr>\n",
       "    <tr>\n",
       "      <th>Region C</th>\n",
       "      <td>49866</td>\n",
       "      <td>99941</td>\n",
       "      <td>49936</td>\n",
       "    </tr>\n",
       "  </tbody>\n",
       "</table>\n",
       "</div>"
      ],
      "text/plain": [
       "                 Energy Consumption (kWh)  Energy Demand  \\\n",
       "Location/Region                                            \n",
       "Region A                            49607          99580   \n",
       "Region B                            49985          99759   \n",
       "Region C                            49866          99941   \n",
       "\n",
       "                 Energy Production (kWh)  \n",
       "Location/Region                           \n",
       "Region A                           49876  \n",
       "Region B                           49804  \n",
       "Region C                           49936  "
      ]
     },
     "execution_count": 18,
     "metadata": {},
     "output_type": "execute_result"
    }
   ],
   "source": [
    "#Evaluating the max for each numerical data based on Region\n",
    "df.groupby(\"Location/Region\")[[\"Energy Consumption (kWh)\",\"Energy Demand\",\"Energy Production (kWh)\"]].max()"
   ]
  },
  {
   "cell_type": "code",
   "execution_count": 20,
   "id": "85ab1f8a-223b-4c30-94f2-ef722271d04b",
   "metadata": {},
   "outputs": [
    {
     "name": "stdout",
     "output_type": "stream",
     "text": [
      "The index value for the maximum Energy Demand value is: \n",
      "295\n",
      " \n",
      "The index value for the maximum Energy Consumption (kWh) value is: \n",
      "49\n",
      " \n",
      "The index value for the maximum Energy Price value is: \n",
      "432\n",
      " \n",
      "The index value for the maximum Operational Costs value is: \n",
      "140\n",
      " \n",
      "The index value for the maximum Energy Production (kWh) value is: \n",
      "564\n",
      " \n"
     ]
    }
   ],
   "source": [
    "for i in df.describe():\n",
    "    print(f\"The index value for the maximum {i} value is: \")\n",
    "    print(df[i].idxmax())\n",
    "    print(\" \")"
   ]
  },
  {
   "cell_type": "code",
   "execution_count": 21,
   "id": "b3b377f1-4f6f-482a-9140-c27bf2e4c1f8",
   "metadata": {},
   "outputs": [
    {
     "data": {
      "text/plain": [
       "Index(['Energy Demand', 'Energy Consumption (kWh)', 'Energy Price',\n",
       "       'Operational Costs', 'Energy Production (kWh)'],\n",
       "      dtype='object')"
      ]
     },
     "execution_count": 21,
     "metadata": {},
     "output_type": "execute_result"
    }
   ],
   "source": [
    "#Get the numerical columns\n",
    "df.describe().columns"
   ]
  },
  {
   "cell_type": "code",
   "execution_count": 22,
   "id": "a680c3fd-5ece-437e-81c9-b0d66f3c7148",
   "metadata": {},
   "outputs": [
    {
     "data": {
      "text/html": [
       "<div>\n",
       "<style scoped>\n",
       "    .dataframe tbody tr th:only-of-type {\n",
       "        vertical-align: middle;\n",
       "    }\n",
       "\n",
       "    .dataframe tbody tr th {\n",
       "        vertical-align: top;\n",
       "    }\n",
       "\n",
       "    .dataframe thead th {\n",
       "        text-align: right;\n",
       "    }\n",
       "</style>\n",
       "<table border=\"1\" class=\"dataframe\">\n",
       "  <thead>\n",
       "    <tr style=\"text-align: right;\">\n",
       "      <th></th>\n",
       "      <th>Energy Consumption (kWh)</th>\n",
       "      <th>Energy Demand</th>\n",
       "      <th>Operational Costs</th>\n",
       "      <th>Energy Production (kWh)</th>\n",
       "      <th>Energy Price</th>\n",
       "    </tr>\n",
       "  </thead>\n",
       "  <tbody>\n",
       "    <tr>\n",
       "      <th>Energy Consumption (kWh)</th>\n",
       "      <td>1.000000</td>\n",
       "      <td>-0.055516</td>\n",
       "      <td>0.019628</td>\n",
       "      <td>0.001461</td>\n",
       "      <td>-0.002155</td>\n",
       "    </tr>\n",
       "    <tr>\n",
       "      <th>Energy Demand</th>\n",
       "      <td>-0.055516</td>\n",
       "      <td>1.000000</td>\n",
       "      <td>0.012022</td>\n",
       "      <td>-0.058656</td>\n",
       "      <td>-0.005362</td>\n",
       "    </tr>\n",
       "    <tr>\n",
       "      <th>Operational Costs</th>\n",
       "      <td>0.019628</td>\n",
       "      <td>0.012022</td>\n",
       "      <td>1.000000</td>\n",
       "      <td>0.004176</td>\n",
       "      <td>0.005845</td>\n",
       "    </tr>\n",
       "    <tr>\n",
       "      <th>Energy Production (kWh)</th>\n",
       "      <td>0.001461</td>\n",
       "      <td>-0.058656</td>\n",
       "      <td>0.004176</td>\n",
       "      <td>1.000000</td>\n",
       "      <td>0.019924</td>\n",
       "    </tr>\n",
       "    <tr>\n",
       "      <th>Energy Price</th>\n",
       "      <td>-0.002155</td>\n",
       "      <td>-0.005362</td>\n",
       "      <td>0.005845</td>\n",
       "      <td>0.019924</td>\n",
       "      <td>1.000000</td>\n",
       "    </tr>\n",
       "  </tbody>\n",
       "</table>\n",
       "</div>"
      ],
      "text/plain": [
       "                          Energy Consumption (kWh)  Energy Demand  \\\n",
       "Energy Consumption (kWh)                  1.000000      -0.055516   \n",
       "Energy Demand                            -0.055516       1.000000   \n",
       "Operational Costs                         0.019628       0.012022   \n",
       "Energy Production (kWh)                   0.001461      -0.058656   \n",
       "Energy Price                             -0.002155      -0.005362   \n",
       "\n",
       "                          Operational Costs  Energy Production (kWh)  \\\n",
       "Energy Consumption (kWh)           0.019628                 0.001461   \n",
       "Energy Demand                      0.012022                -0.058656   \n",
       "Operational Costs                  1.000000                 0.004176   \n",
       "Energy Production (kWh)            0.004176                 1.000000   \n",
       "Energy Price                       0.005845                 0.019924   \n",
       "\n",
       "                          Energy Price  \n",
       "Energy Consumption (kWh)     -0.002155  \n",
       "Energy Demand                -0.005362  \n",
       "Operational Costs             0.005845  \n",
       "Energy Production (kWh)       0.019924  \n",
       "Energy Price                  1.000000  "
      ]
     },
     "execution_count": 22,
     "metadata": {},
     "output_type": "execute_result"
    }
   ],
   "source": [
    "# Checking for data correlation\n",
    "df[[\"Energy Consumption (kWh)\",\"Energy Demand\",\"Operational Costs\",\"Energy Production (kWh)\",\"Energy Price\"]].corr()"
   ]
  },
  {
   "cell_type": "code",
   "execution_count": 25,
   "id": "1d22bcf7-dbe5-415a-81fa-b0c3e2da9263",
   "metadata": {},
   "outputs": [
    {
     "data": {
      "text/html": [
       "<div>\n",
       "<style scoped>\n",
       "    .dataframe tbody tr th:only-of-type {\n",
       "        vertical-align: middle;\n",
       "    }\n",
       "\n",
       "    .dataframe tbody tr th {\n",
       "        vertical-align: top;\n",
       "    }\n",
       "\n",
       "    .dataframe thead th {\n",
       "        text-align: right;\n",
       "    }\n",
       "</style>\n",
       "<table border=\"1\" class=\"dataframe\">\n",
       "  <thead>\n",
       "    <tr style=\"text-align: right;\">\n",
       "      <th></th>\n",
       "      <th>0</th>\n",
       "      <th>1</th>\n",
       "      <th>2</th>\n",
       "    </tr>\n",
       "  </thead>\n",
       "  <tbody>\n",
       "    <tr>\n",
       "      <th>0</th>\n",
       "      <td>01</td>\n",
       "      <td>01</td>\n",
       "      <td>2012</td>\n",
       "    </tr>\n",
       "    <tr>\n",
       "      <th>1</th>\n",
       "      <td>02</td>\n",
       "      <td>01</td>\n",
       "      <td>2012</td>\n",
       "    </tr>\n",
       "    <tr>\n",
       "      <th>2</th>\n",
       "      <td>03</td>\n",
       "      <td>01</td>\n",
       "      <td>2012</td>\n",
       "    </tr>\n",
       "    <tr>\n",
       "      <th>3</th>\n",
       "      <td>04</td>\n",
       "      <td>01</td>\n",
       "      <td>2012</td>\n",
       "    </tr>\n",
       "    <tr>\n",
       "      <th>4</th>\n",
       "      <td>05</td>\n",
       "      <td>01</td>\n",
       "      <td>2012</td>\n",
       "    </tr>\n",
       "  </tbody>\n",
       "</table>\n",
       "</div>"
      ],
      "text/plain": [
       "    0   1     2\n",
       "0  01  01  2012\n",
       "1  02  01  2012\n",
       "2  03  01  2012\n",
       "3  04  01  2012\n",
       "4  05  01  2012"
      ]
     },
     "execution_count": 25,
     "metadata": {},
     "output_type": "execute_result"
    }
   ],
   "source": [
    "# Transforming my date column\n",
    "d = df[\"Date/Time\"].str.split('/', expand=True)\n",
    "d.head()"
   ]
  },
  {
   "cell_type": "code",
   "execution_count": 26,
   "id": "1296885d-06b1-4411-8c2b-e74417cbbea3",
   "metadata": {},
   "outputs": [],
   "source": [
    "# Saving the output into a dataframe\n",
    "df['Month'] = list(d[1])\n",
    "df['Day'] = list(d[0])\n",
    "df['Year'] = list(d[2])"
   ]
  },
  {
   "cell_type": "code",
   "execution_count": 27,
   "id": "c2c18cc7-3289-4939-a7e5-ba2ea45f1927",
   "metadata": {},
   "outputs": [
    {
     "data": {
      "text/html": [
       "<div>\n",
       "<style scoped>\n",
       "    .dataframe tbody tr th:only-of-type {\n",
       "        vertical-align: middle;\n",
       "    }\n",
       "\n",
       "    .dataframe tbody tr th {\n",
       "        vertical-align: top;\n",
       "    }\n",
       "\n",
       "    .dataframe thead th {\n",
       "        text-align: right;\n",
       "    }\n",
       "</style>\n",
       "<table border=\"1\" class=\"dataframe\">\n",
       "  <thead>\n",
       "    <tr style=\"text-align: right;\">\n",
       "      <th></th>\n",
       "      <th>Date/Time</th>\n",
       "      <th>Location/Region</th>\n",
       "      <th>Energy Source</th>\n",
       "      <th>Energy Demand</th>\n",
       "      <th>Energy Consumption (kWh)</th>\n",
       "      <th>Energy Price</th>\n",
       "      <th>Operational Costs</th>\n",
       "      <th>Energy Production (kWh)</th>\n",
       "      <th>Month</th>\n",
       "      <th>Day</th>\n",
       "      <th>Year</th>\n",
       "    </tr>\n",
       "  </thead>\n",
       "  <tbody>\n",
       "    <tr>\n",
       "      <th>0</th>\n",
       "      <td>2012-01-01</td>\n",
       "      <td>Region A</td>\n",
       "      <td>Fossil Fuels</td>\n",
       "      <td>24016</td>\n",
       "      <td>21848</td>\n",
       "      <td>0.131630</td>\n",
       "      <td>1564.239198</td>\n",
       "      <td>31604</td>\n",
       "      <td>01</td>\n",
       "      <td>01</td>\n",
       "      <td>2012</td>\n",
       "    </tr>\n",
       "    <tr>\n",
       "      <th>1</th>\n",
       "      <td>2012-01-02</td>\n",
       "      <td>Region C</td>\n",
       "      <td>Fossil Fuels</td>\n",
       "      <td>56200</td>\n",
       "      <td>34796</td>\n",
       "      <td>0.160969</td>\n",
       "      <td>3837.295411</td>\n",
       "      <td>11734</td>\n",
       "      <td>01</td>\n",
       "      <td>02</td>\n",
       "      <td>2012</td>\n",
       "    </tr>\n",
       "    <tr>\n",
       "      <th>2</th>\n",
       "      <td>2012-01-03</td>\n",
       "      <td>Region A</td>\n",
       "      <td>Renewables</td>\n",
       "      <td>81268</td>\n",
       "      <td>36244</td>\n",
       "      <td>0.155890</td>\n",
       "      <td>4418.260676</td>\n",
       "      <td>31523</td>\n",
       "      <td>01</td>\n",
       "      <td>03</td>\n",
       "      <td>2012</td>\n",
       "    </tr>\n",
       "    <tr>\n",
       "      <th>3</th>\n",
       "      <td>2012-01-04</td>\n",
       "      <td>Region C</td>\n",
       "      <td>Fossil Fuels</td>\n",
       "      <td>61287</td>\n",
       "      <td>19955</td>\n",
       "      <td>0.130128</td>\n",
       "      <td>3743.417970</td>\n",
       "      <td>21205</td>\n",
       "      <td>01</td>\n",
       "      <td>04</td>\n",
       "      <td>2012</td>\n",
       "    </tr>\n",
       "    <tr>\n",
       "      <th>4</th>\n",
       "      <td>2012-01-05</td>\n",
       "      <td>Region B</td>\n",
       "      <td>Fossil Fuels</td>\n",
       "      <td>93447</td>\n",
       "      <td>13788</td>\n",
       "      <td>0.151835</td>\n",
       "      <td>1071.513936</td>\n",
       "      <td>19548</td>\n",
       "      <td>01</td>\n",
       "      <td>05</td>\n",
       "      <td>2012</td>\n",
       "    </tr>\n",
       "  </tbody>\n",
       "</table>\n",
       "</div>"
      ],
      "text/plain": [
       "    Date/Time Location/Region Energy Source  Energy Demand  \\\n",
       "0  2012-01-01        Region A  Fossil Fuels          24016   \n",
       "1  2012-01-02        Region C  Fossil Fuels          56200   \n",
       "2  2012-01-03        Region A    Renewables          81268   \n",
       "3  2012-01-04        Region C  Fossil Fuels          61287   \n",
       "4  2012-01-05        Region B  Fossil Fuels          93447   \n",
       "\n",
       "   Energy Consumption (kWh)  Energy Price  Operational Costs  \\\n",
       "0                     21848      0.131630        1564.239198   \n",
       "1                     34796      0.160969        3837.295411   \n",
       "2                     36244      0.155890        4418.260676   \n",
       "3                     19955      0.130128        3743.417970   \n",
       "4                     13788      0.151835        1071.513936   \n",
       "\n",
       "   Energy Production (kWh) Month Day  Year  \n",
       "0                    31604    01  01  2012  \n",
       "1                    11734    01  02  2012  \n",
       "2                    31523    01  03  2012  \n",
       "3                    21205    01  04  2012  \n",
       "4                    19548    01  05  2012  "
      ]
     },
     "execution_count": 27,
     "metadata": {},
     "output_type": "execute_result"
    }
   ],
   "source": [
    "df['Date/Time'] = df['Year'] + '-' + df['Month'] +'-' +df['Day']"
   ]
  },
  {
   "cell_type": "code",
   "execution_count": 29,
   "id": "88d54e60-4667-4acf-9e05-d1e2fee0a2d5",
   "metadata": {},
   "outputs": [],
   "source": [
    "df.drop(columns=['Month', 'Day','Year'], inplace=True)"
   ]
  },
  {
   "cell_type": "code",
   "execution_count": 31,
   "id": "0f6fd077-6de4-40ed-807c-71186c054a31",
   "metadata": {},
   "outputs": [
    {
     "data": {
      "text/html": [
       "<div>\n",
       "<style scoped>\n",
       "    .dataframe tbody tr th:only-of-type {\n",
       "        vertical-align: middle;\n",
       "    }\n",
       "\n",
       "    .dataframe tbody tr th {\n",
       "        vertical-align: top;\n",
       "    }\n",
       "\n",
       "    .dataframe thead th {\n",
       "        text-align: right;\n",
       "    }\n",
       "</style>\n",
       "<table border=\"1\" class=\"dataframe\">\n",
       "  <thead>\n",
       "    <tr style=\"text-align: right;\">\n",
       "      <th></th>\n",
       "      <th>Date/Time</th>\n",
       "      <th>Location/Region</th>\n",
       "      <th>Energy Source</th>\n",
       "      <th>Energy Demand</th>\n",
       "      <th>Energy Consumption (kWh)</th>\n",
       "      <th>Energy Price</th>\n",
       "      <th>Operational Costs</th>\n",
       "      <th>Energy Production (kWh)</th>\n",
       "    </tr>\n",
       "  </thead>\n",
       "  <tbody>\n",
       "    <tr>\n",
       "      <th>0</th>\n",
       "      <td>2012-01-01</td>\n",
       "      <td>Region A</td>\n",
       "      <td>Fossil Fuels</td>\n",
       "      <td>24016</td>\n",
       "      <td>21848</td>\n",
       "      <td>0.131630</td>\n",
       "      <td>1564.239198</td>\n",
       "      <td>31604</td>\n",
       "    </tr>\n",
       "    <tr>\n",
       "      <th>1</th>\n",
       "      <td>2012-01-02</td>\n",
       "      <td>Region C</td>\n",
       "      <td>Fossil Fuels</td>\n",
       "      <td>56200</td>\n",
       "      <td>34796</td>\n",
       "      <td>0.160969</td>\n",
       "      <td>3837.295411</td>\n",
       "      <td>11734</td>\n",
       "    </tr>\n",
       "    <tr>\n",
       "      <th>2</th>\n",
       "      <td>2012-01-03</td>\n",
       "      <td>Region A</td>\n",
       "      <td>Renewables</td>\n",
       "      <td>81268</td>\n",
       "      <td>36244</td>\n",
       "      <td>0.155890</td>\n",
       "      <td>4418.260676</td>\n",
       "      <td>31523</td>\n",
       "    </tr>\n",
       "    <tr>\n",
       "      <th>3</th>\n",
       "      <td>2012-01-04</td>\n",
       "      <td>Region C</td>\n",
       "      <td>Fossil Fuels</td>\n",
       "      <td>61287</td>\n",
       "      <td>19955</td>\n",
       "      <td>0.130128</td>\n",
       "      <td>3743.417970</td>\n",
       "      <td>21205</td>\n",
       "    </tr>\n",
       "    <tr>\n",
       "      <th>4</th>\n",
       "      <td>2012-01-05</td>\n",
       "      <td>Region B</td>\n",
       "      <td>Fossil Fuels</td>\n",
       "      <td>93447</td>\n",
       "      <td>13788</td>\n",
       "      <td>0.151835</td>\n",
       "      <td>1071.513936</td>\n",
       "      <td>19548</td>\n",
       "    </tr>\n",
       "  </tbody>\n",
       "</table>\n",
       "</div>"
      ],
      "text/plain": [
       "   Date/Time Location/Region Energy Source  Energy Demand  \\\n",
       "0 2012-01-01        Region A  Fossil Fuels          24016   \n",
       "1 2012-01-02        Region C  Fossil Fuels          56200   \n",
       "2 2012-01-03        Region A    Renewables          81268   \n",
       "3 2012-01-04        Region C  Fossil Fuels          61287   \n",
       "4 2012-01-05        Region B  Fossil Fuels          93447   \n",
       "\n",
       "   Energy Consumption (kWh)  Energy Price  Operational Costs  \\\n",
       "0                     21848      0.131630        1564.239198   \n",
       "1                     34796      0.160969        3837.295411   \n",
       "2                     36244      0.155890        4418.260676   \n",
       "3                     19955      0.130128        3743.417970   \n",
       "4                     13788      0.151835        1071.513936   \n",
       "\n",
       "   Energy Production (kWh)  \n",
       "0                    31604  \n",
       "1                    11734  \n",
       "2                    31523  \n",
       "3                    21205  \n",
       "4                    19548  "
      ]
     },
     "execution_count": 31,
     "metadata": {},
     "output_type": "execute_result"
    }
   ],
   "source": [
    "df['Date/Time'] = pd.to_datetime(df['Date/Time'])\n",
    "df.head()"
   ]
  },
  {
   "cell_type": "code",
   "execution_count": 32,
   "id": "6d0d6dfb-60c4-4657-afec-e5e0ab4b1824",
   "metadata": {},
   "outputs": [],
   "source": [
    "df.index = df['Date/Time']"
   ]
  },
  {
   "cell_type": "markdown",
   "id": "250d2a92-e9a8-4d0b-bc1c-dc22e840738c",
   "metadata": {},
   "source": [
    "<h2>Visualisation</h2>"
   ]
  },
  {
   "cell_type": "code",
   "execution_count": 38,
   "id": "f66dc2f3-97a7-4a15-ac4f-93f87fc37d47",
   "metadata": {},
   "outputs": [
    {
     "data": {
      "text/plain": [
       "Text(0, 0.5, 'Frequency')"
      ]
     },
     "execution_count": 38,
     "metadata": {},
     "output_type": "execute_result"
    },
    {
     "data": {
      "image/png": "[encoded data removed]",
      "text/plain": [
       "<Figure size 640x480 with 1 Axes>"
      ]
     },
     "metadata": {},
     "output_type": "display_data"
    }
   ],
   "source": [
    "#Time Series plot\n",
    "df[[\"Energy Consumption (kWh)\",\"Energy Demand\",\"Energy Production (kWh)\"]].cumsum().plot()\n",
    "plt.title(\"Time Series\")\n",
    "plt.ylabel('Frequency')"
   ]
  },
  {
   "cell_type": "code",
   "execution_count": 43,
   "id": "839356bd-5e33-4178-92c6-89f094916b1b",
   "metadata": {},
   "outputs": [
    {
     "data": {
      "text/plain": [
       "Text(0, 0.5, 'Frequency Count')"
      ]
     },
     "execution_count": 43,
     "metadata": {},
     "output_type": "execute_result"
    },
    {
     "data": {
      "image/png": "[encoded data removed]",
      "text/plain": [
       "<Figure size 640x480 with 1 Axes>"
      ]
     },
     "metadata": {},
     "output_type": "display_data"
    }
   ],
   "source": [
    "pd.crosstab(df['Location/Region'], df['Energy Source']).plot(kind=\"bar\")\n",
    "plt.title(\"Visual crosstab between Location and Energy Source\")\n",
    "plt.ylabel(\"Frequency Count\")"
   ]
  },
  {
   "cell_type": "code",
   "execution_count": 47,
   "id": "043ef8e6-3129-43bb-8374-64ac33776f50",
   "metadata": {},
   "outputs": [
    {
     "data": {
      "text/plain": [
       "Date/Time                           \n",
       "2012-01-01  Date/Time                   2012-01-01 00:00:00\n",
       "            Location/Region                        Region A\n",
       "            Energy Source                      Fossil Fuels\n",
       "            Energy Demand                             24016\n",
       "            Energy Consumption (kWh)                  21848\n",
       "                                               ...         \n",
       "2014-09-26  Energy Demand                             97228\n",
       "            Energy Consumption (kWh)                  10748\n",
       "            Energy Price                           0.106347\n",
       "            Operational Costs                   2872.336241\n",
       "            Energy Production (kWh)                   24484\n",
       "Length: 8000, dtype: object"
      ]
     },
     "execution_count": 47,
     "metadata": {},
     "output_type": "execute_result"
    }
   ],
   "source": [
    "df.stack()"
   ]
  },
  {
   "cell_type": "markdown",
   "id": "95e00629-b391-4768-bd39-aa22531fe2a2",
   "metadata": {
    "jp-MarkdownHeadingCollapsed": true
   },
   "source": [
    "<summary>From the analysis it can be said that there was consistent increase in price from 2012 to 2014 and also Region C made the highest impact on the growth level.</summary>"
   ]
  },
  {
   "cell_type": "code",
   "execution_count": null,
   "id": "f25c3259-5eae-49a3-a1a8-a7987ac1db6e",
   "metadata": {},
   "outputs": [],
   "source": []
  }
 ],
 "metadata": {
  "kernelspec": {
   "display_name": "Python 3 (ipykernel)",
   "language": "python",
   "name": "python3"
  },
  "language_info": {
   "codemirror_mode": {
    "name": "ipython",
    "version": 3
   },
   "file_extension": ".py",
   "mimetype": "text/x-python",
   "name": "python",
   "nbconvert_exporter": "python",
   "pygments_lexer": "ipython3",
   "version": "3.11.7"
  }
 },
 "nbformat": 4,
 "nbformat_minor": 5
}
